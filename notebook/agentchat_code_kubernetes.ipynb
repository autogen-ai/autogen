{
 "cells": [
  {
   "cell_type": "code",
   "execution_count": 6,
   "metadata": {},
   "outputs": [
    {
     "name": "stdout",
     "output_type": "stream",
     "text": [
      "Collecting autogen@ git+https://github.com/fere-ai/autogen.git@a49 (from autogen[kubernetes_executor]@ git+https://github.com/fere-ai/autogen.git@a49)\n",
      "  Cloning https://github.com/fere-ai/autogen.git (to revision a49) to /tmp/pip-install-33yd_2r6/autogen_605fc08bd46647e4a29ea463fecc207a\n",
      "  Running command git clone --filter=blob:none --quiet https://github.com/fere-ai/autogen.git /tmp/pip-install-33yd_2r6/autogen_605fc08bd46647e4a29ea463fecc207a\n",
      "  Running command git checkout -b a49 --track origin/a49\n",
      "  Switched to a new branch 'a49'\n",
      "  branch 'a49' set up to track 'origin/a49'.\n",
      "  Resolved https://github.com/fere-ai/autogen.git to commit e1e27c0cc498e30ce9841e02330f55cd19dc3d09\n",
      "  Installing build dependencies ... \u001b[?25ldone\n",
      "\u001b[?25h  Getting requirements to build wheel ... \u001b[?25ldone\n",
      "\u001b[?25h  Preparing metadata (pyproject.toml) ... \u001b[?25ldone\n",
      "\u001b[?25hRequirement already satisfied: openai>=1.3 in /home/pranav/workspace/fere-ai/autogen/venv/lib/python3.12/site-packages (from autogen@ git+https://github.com/fere-ai/autogen.git@a49->autogen[kubernetes_executor]@ git+https://github.com/fere-ai/autogen.git@a49) (1.50.2)\n",
      "Requirement already satisfied: diskcache in /home/pranav/workspace/fere-ai/autogen/venv/lib/python3.12/site-packages (from autogen@ git+https://github.com/fere-ai/autogen.git@a49->autogen[kubernetes_executor]@ git+https://github.com/fere-ai/autogen.git@a49) (5.6.3)\n",
      "Requirement already satisfied: termcolor in /home/pranav/workspace/fere-ai/autogen/venv/lib/python3.12/site-packages (from autogen@ git+https://github.com/fere-ai/autogen.git@a49->autogen[kubernetes_executor]@ git+https://github.com/fere-ai/autogen.git@a49) (2.4.0)\n",
      "Requirement already satisfied: flaml in /home/pranav/workspace/fere-ai/autogen/venv/lib/python3.12/site-packages (from autogen@ git+https://github.com/fere-ai/autogen.git@a49->autogen[kubernetes_executor]@ git+https://github.com/fere-ai/autogen.git@a49) (2.3.1)\n",
      "Requirement already satisfied: numpy<2,>=1.17.0 in /home/pranav/workspace/fere-ai/autogen/venv/lib/python3.12/site-packages (from autogen@ git+https://github.com/fere-ai/autogen.git@a49->autogen[kubernetes_executor]@ git+https://github.com/fere-ai/autogen.git@a49) (1.26.4)\n",
      "Requirement already satisfied: python-dotenv in /home/pranav/workspace/fere-ai/autogen/venv/lib/python3.12/site-packages (from autogen@ git+https://github.com/fere-ai/autogen.git@a49->autogen[kubernetes_executor]@ git+https://github.com/fere-ai/autogen.git@a49) (1.0.1)\n",
      "Requirement already satisfied: tiktoken in /home/pranav/workspace/fere-ai/autogen/venv/lib/python3.12/site-packages (from autogen@ git+https://github.com/fere-ai/autogen.git@a49->autogen[kubernetes_executor]@ git+https://github.com/fere-ai/autogen.git@a49) (0.7.0)\n",
      "Requirement already satisfied: pydantic!=2.6.0,<3,>=1.10 in /home/pranav/workspace/fere-ai/autogen/venv/lib/python3.12/site-packages (from autogen@ git+https://github.com/fere-ai/autogen.git@a49->autogen[kubernetes_executor]@ git+https://github.com/fere-ai/autogen.git@a49) (2.9.2)\n",
      "Requirement already satisfied: docker in /home/pranav/workspace/fere-ai/autogen/venv/lib/python3.12/site-packages (from autogen@ git+https://github.com/fere-ai/autogen.git@a49->autogen[kubernetes_executor]@ git+https://github.com/fere-ai/autogen.git@a49) (7.1.0)\n",
      "Requirement already satisfied: packaging in /home/pranav/workspace/fere-ai/autogen/venv/lib/python3.12/site-packages (from autogen@ git+https://github.com/fere-ai/autogen.git@a49->autogen[kubernetes_executor]@ git+https://github.com/fere-ai/autogen.git@a49) (24.1)\n",
      "Requirement already satisfied: kubernetes in /home/pranav/workspace/fere-ai/autogen/venv/lib/python3.12/site-packages (from autogen@ git+https://github.com/fere-ai/autogen.git@a49->autogen[kubernetes_executor]@ git+https://github.com/fere-ai/autogen.git@a49) (31.0.0)\n",
      "Requirement already satisfied: anyio<5,>=3.5.0 in /home/pranav/workspace/fere-ai/autogen/venv/lib/python3.12/site-packages (from openai>=1.3->autogen@ git+https://github.com/fere-ai/autogen.git@a49->autogen[kubernetes_executor]@ git+https://github.com/fere-ai/autogen.git@a49) (4.6.0)\n",
      "Requirement already satisfied: distro<2,>=1.7.0 in /home/pranav/workspace/fere-ai/autogen/venv/lib/python3.12/site-packages (from openai>=1.3->autogen@ git+https://github.com/fere-ai/autogen.git@a49->autogen[kubernetes_executor]@ git+https://github.com/fere-ai/autogen.git@a49) (1.9.0)\n",
      "Requirement already satisfied: httpx<1,>=0.23.0 in /home/pranav/workspace/fere-ai/autogen/venv/lib/python3.12/site-packages (from openai>=1.3->autogen@ git+https://github.com/fere-ai/autogen.git@a49->autogen[kubernetes_executor]@ git+https://github.com/fere-ai/autogen.git@a49) (0.27.2)\n",
      "Requirement already satisfied: jiter<1,>=0.4.0 in /home/pranav/workspace/fere-ai/autogen/venv/lib/python3.12/site-packages (from openai>=1.3->autogen@ git+https://github.com/fere-ai/autogen.git@a49->autogen[kubernetes_executor]@ git+https://github.com/fere-ai/autogen.git@a49) (0.5.0)\n",
      "Requirement already satisfied: sniffio in /home/pranav/workspace/fere-ai/autogen/venv/lib/python3.12/site-packages (from openai>=1.3->autogen@ git+https://github.com/fere-ai/autogen.git@a49->autogen[kubernetes_executor]@ git+https://github.com/fere-ai/autogen.git@a49) (1.3.1)\n",
      "Requirement already satisfied: tqdm>4 in /home/pranav/workspace/fere-ai/autogen/venv/lib/python3.12/site-packages (from openai>=1.3->autogen@ git+https://github.com/fere-ai/autogen.git@a49->autogen[kubernetes_executor]@ git+https://github.com/fere-ai/autogen.git@a49) (4.66.5)\n",
      "Requirement already satisfied: typing-extensions<5,>=4.11 in /home/pranav/workspace/fere-ai/autogen/venv/lib/python3.12/site-packages (from openai>=1.3->autogen@ git+https://github.com/fere-ai/autogen.git@a49->autogen[kubernetes_executor]@ git+https://github.com/fere-ai/autogen.git@a49) (4.12.2)\n",
      "Requirement already satisfied: annotated-types>=0.6.0 in /home/pranav/workspace/fere-ai/autogen/venv/lib/python3.12/site-packages (from pydantic!=2.6.0,<3,>=1.10->autogen@ git+https://github.com/fere-ai/autogen.git@a49->autogen[kubernetes_executor]@ git+https://github.com/fere-ai/autogen.git@a49) (0.7.0)\n",
      "Requirement already satisfied: pydantic-core==2.23.4 in /home/pranav/workspace/fere-ai/autogen/venv/lib/python3.12/site-packages (from pydantic!=2.6.0,<3,>=1.10->autogen@ git+https://github.com/fere-ai/autogen.git@a49->autogen[kubernetes_executor]@ git+https://github.com/fere-ai/autogen.git@a49) (2.23.4)\n",
      "Requirement already satisfied: requests>=2.26.0 in /home/pranav/workspace/fere-ai/autogen/venv/lib/python3.12/site-packages (from docker->autogen@ git+https://github.com/fere-ai/autogen.git@a49->autogen[kubernetes_executor]@ git+https://github.com/fere-ai/autogen.git@a49) (2.32.3)\n",
      "Requirement already satisfied: urllib3>=1.26.0 in /home/pranav/workspace/fere-ai/autogen/venv/lib/python3.12/site-packages (from docker->autogen@ git+https://github.com/fere-ai/autogen.git@a49->autogen[kubernetes_executor]@ git+https://github.com/fere-ai/autogen.git@a49) (2.2.3)\n",
      "Requirement already satisfied: certifi>=14.05.14 in /home/pranav/workspace/fere-ai/autogen/venv/lib/python3.12/site-packages (from kubernetes->autogen@ git+https://github.com/fere-ai/autogen.git@a49->autogen[kubernetes_executor]@ git+https://github.com/fere-ai/autogen.git@a49) (2024.8.30)\n",
      "Requirement already satisfied: six>=1.9.0 in /home/pranav/workspace/fere-ai/autogen/venv/lib/python3.12/site-packages (from kubernetes->autogen@ git+https://github.com/fere-ai/autogen.git@a49->autogen[kubernetes_executor]@ git+https://github.com/fere-ai/autogen.git@a49) (1.16.0)\n",
      "Requirement already satisfied: python-dateutil>=2.5.3 in /home/pranav/workspace/fere-ai/autogen/venv/lib/python3.12/site-packages (from kubernetes->autogen@ git+https://github.com/fere-ai/autogen.git@a49->autogen[kubernetes_executor]@ git+https://github.com/fere-ai/autogen.git@a49) (2.9.0.post0)\n",
      "Requirement already satisfied: pyyaml>=5.4.1 in /home/pranav/workspace/fere-ai/autogen/venv/lib/python3.12/site-packages (from kubernetes->autogen@ git+https://github.com/fere-ai/autogen.git@a49->autogen[kubernetes_executor]@ git+https://github.com/fere-ai/autogen.git@a49) (6.0.2)\n",
      "Requirement already satisfied: google-auth>=1.0.1 in /home/pranav/workspace/fere-ai/autogen/venv/lib/python3.12/site-packages (from kubernetes->autogen@ git+https://github.com/fere-ai/autogen.git@a49->autogen[kubernetes_executor]@ git+https://github.com/fere-ai/autogen.git@a49) (2.35.0)\n",
      "Requirement already satisfied: websocket-client!=0.40.0,!=0.41.*,!=0.42.*,>=0.32.0 in /home/pranav/workspace/fere-ai/autogen/venv/lib/python3.12/site-packages (from kubernetes->autogen@ git+https://github.com/fere-ai/autogen.git@a49->autogen[kubernetes_executor]@ git+https://github.com/fere-ai/autogen.git@a49) (1.8.0)\n",
      "Requirement already satisfied: requests-oauthlib in /home/pranav/workspace/fere-ai/autogen/venv/lib/python3.12/site-packages (from kubernetes->autogen@ git+https://github.com/fere-ai/autogen.git@a49->autogen[kubernetes_executor]@ git+https://github.com/fere-ai/autogen.git@a49) (2.0.0)\n",
      "Requirement already satisfied: oauthlib>=3.2.2 in /home/pranav/workspace/fere-ai/autogen/venv/lib/python3.12/site-packages (from kubernetes->autogen@ git+https://github.com/fere-ai/autogen.git@a49->autogen[kubernetes_executor]@ git+https://github.com/fere-ai/autogen.git@a49) (3.2.2)\n",
      "Requirement already satisfied: durationpy>=0.7 in /home/pranav/workspace/fere-ai/autogen/venv/lib/python3.12/site-packages (from kubernetes->autogen@ git+https://github.com/fere-ai/autogen.git@a49->autogen[kubernetes_executor]@ git+https://github.com/fere-ai/autogen.git@a49) (0.8)\n",
      "Requirement already satisfied: regex>=2022.1.18 in /home/pranav/workspace/fere-ai/autogen/venv/lib/python3.12/site-packages (from tiktoken->autogen@ git+https://github.com/fere-ai/autogen.git@a49->autogen[kubernetes_executor]@ git+https://github.com/fere-ai/autogen.git@a49) (2024.9.11)\n",
      "Requirement already satisfied: idna>=2.8 in /home/pranav/workspace/fere-ai/autogen/venv/lib/python3.12/site-packages (from anyio<5,>=3.5.0->openai>=1.3->autogen@ git+https://github.com/fere-ai/autogen.git@a49->autogen[kubernetes_executor]@ git+https://github.com/fere-ai/autogen.git@a49) (3.10)\n",
      "Requirement already satisfied: cachetools<6.0,>=2.0.0 in /home/pranav/workspace/fere-ai/autogen/venv/lib/python3.12/site-packages (from google-auth>=1.0.1->kubernetes->autogen@ git+https://github.com/fere-ai/autogen.git@a49->autogen[kubernetes_executor]@ git+https://github.com/fere-ai/autogen.git@a49) (5.5.0)\n",
      "Requirement already satisfied: pyasn1-modules>=0.2.1 in /home/pranav/workspace/fere-ai/autogen/venv/lib/python3.12/site-packages (from google-auth>=1.0.1->kubernetes->autogen@ git+https://github.com/fere-ai/autogen.git@a49->autogen[kubernetes_executor]@ git+https://github.com/fere-ai/autogen.git@a49) (0.4.1)\n",
      "Requirement already satisfied: rsa<5,>=3.1.4 in /home/pranav/workspace/fere-ai/autogen/venv/lib/python3.12/site-packages (from google-auth>=1.0.1->kubernetes->autogen@ git+https://github.com/fere-ai/autogen.git@a49->autogen[kubernetes_executor]@ git+https://github.com/fere-ai/autogen.git@a49) (4.9)\n",
      "Requirement already satisfied: httpcore==1.* in /home/pranav/workspace/fere-ai/autogen/venv/lib/python3.12/site-packages (from httpx<1,>=0.23.0->openai>=1.3->autogen@ git+https://github.com/fere-ai/autogen.git@a49->autogen[kubernetes_executor]@ git+https://github.com/fere-ai/autogen.git@a49) (1.0.5)\n",
      "Requirement already satisfied: h11<0.15,>=0.13 in /home/pranav/workspace/fere-ai/autogen/venv/lib/python3.12/site-packages (from httpcore==1.*->httpx<1,>=0.23.0->openai>=1.3->autogen@ git+https://github.com/fere-ai/autogen.git@a49->autogen[kubernetes_executor]@ git+https://github.com/fere-ai/autogen.git@a49) (0.14.0)\n",
      "Requirement already satisfied: charset-normalizer<4,>=2 in /home/pranav/workspace/fere-ai/autogen/venv/lib/python3.12/site-packages (from requests>=2.26.0->docker->autogen@ git+https://github.com/fere-ai/autogen.git@a49->autogen[kubernetes_executor]@ git+https://github.com/fere-ai/autogen.git@a49) (3.3.2)\n",
      "Requirement already satisfied: pyasn1<0.7.0,>=0.4.6 in /home/pranav/workspace/fere-ai/autogen/venv/lib/python3.12/site-packages (from pyasn1-modules>=0.2.1->google-auth>=1.0.1->kubernetes->autogen@ git+https://github.com/fere-ai/autogen.git@a49->autogen[kubernetes_executor]@ git+https://github.com/fere-ai/autogen.git@a49) (0.6.1)\n"
     ]
    }
   ],
   "source": [
    "!pip install autogen[kubernetes_executor]@git+https://github.com/fere-ai/autogen.git@a49"
   ]
  },
  {
   "cell_type": "code",
   "execution_count": 7,
   "metadata": {},
   "outputs": [],
   "source": [
    "from autogen.coding.kubernetes_commandline_code_executor import KubernetesCommandLineCodeExecutor"
   ]
  },
  {
   "cell_type": "code",
   "execution_count": 8,
   "metadata": {},
   "outputs": [],
   "source": [
    "executor = KubernetesCommandLineCodeExecutor(\n",
    "    timeout=10,  # Timeout for each code execution in seconds.\n",
    "    work_dir=\"/workspace\",  # Use the temporary directory to store the code files.\n",
    ")"
   ]
  },
  {
   "cell_type": "markdown",
   "metadata": {},
   "source": [
    "The above code creates a pod in your kubernetes cluster. You can check that by\n",
    "\n",
    "```\n",
    "$ kubectl get pods\n",
    "NAME                                                     READY   STATUS    RESTARTS   AGE\n",
    "autogen-code-exec-8a0961b1-d9e5-42fb-94e4-24bc69bc442b   1/1     Running   0          115s\n",
    "```"
   ]
  },
  {
   "cell_type": "code",
   "execution_count": 10,
   "metadata": {},
   "outputs": [],
   "source": [
    "from autogen.agentchat import ConversableAgent\n",
    "\n",
    "code_executor_agent = ConversableAgent(\n",
    "    \"code_executor_agent\",\n",
    "    llm_config=False,  # Turn off LLM for this agent.\n",
    "    code_execution_config={\"executor\": executor},  # Use the local command line code executor.\n",
    "    human_input_mode=\"ALWAYS\",  # Always take human input for this agent for safety.\n",
    ")"
   ]
  },
  {
   "cell_type": "code",
   "execution_count": 13,
   "metadata": {},
   "outputs": [],
   "source": [
    "message_with_code_block = \"\"\"This is a message with code block.\n",
    "The code block is below:\n",
    "```python\n",
    "print(\"hello world\")\n",
    "```\n",
    "This is the end of the message.\n",
    "\"\"\""
   ]
  },
  {
   "cell_type": "code",
   "execution_count": 14,
   "metadata": {},
   "outputs": [
    {
     "name": "stdout",
     "output_type": "stream",
     "text": [
      "\u001b[31m\n",
      ">>>>>>>> NO HUMAN INPUT RECEIVED.\u001b[0m\n",
      "\u001b[31m\n",
      ">>>>>>>> USING AUTO REPLY...\u001b[0m\n",
      "\u001b[31m\n",
      ">>>>>>>> EXECUTING CODE BLOCK (inferred language is python)...\u001b[0m\n",
      "exitcode: 0 (execution succeeded)\n",
      "Code output: hello world\n"
     ]
    }
   ],
   "source": [
    "reply = code_executor_agent.generate_reply(messages=[{\"role\": \"user\", \"content\": message_with_code_block}])\n",
    "print(reply)"
   ]
  },
  {
   "cell_type": "markdown",
   "metadata": {},
   "source": [
    "Stop the kubernetes command line executor to clean up the pods."
   ]
  },
  {
   "cell_type": "code",
   "execution_count": 15,
   "metadata": {},
   "outputs": [],
   "source": [
    "executor.stop()  # Stop"
   ]
  }
 ],
 "metadata": {
  "kernelspec": {
   "display_name": "Python 3",
   "language": "python",
   "name": "python3"
  },
  "language_info": {
   "codemirror_mode": {
    "name": "ipython",
    "version": 3
   },
   "file_extension": ".py",
   "mimetype": "text/x-python",
   "name": "python",
   "nbconvert_exporter": "python",
   "pygments_lexer": "ipython3",
   "version": "3.12.3"
  }
 },
 "nbformat": 4,
 "nbformat_minor": 2
}
